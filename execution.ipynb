{
 "cells": [
  {
   "cell_type": "code",
   "execution_count": 4,
   "metadata": {},
   "outputs": [
    {
     "data": {
      "text/plain": [
       "'C:\\\\Users\\\\me20332\\\\AppData\\\\Local\\\\Programs\\\\Microsoft VS Code'"
      ]
     },
     "execution_count": 4,
     "metadata": {},
     "output_type": "execute_result"
    }
   ],
   "source": [
    "pwd"
   ]
  },
  {
   "cell_type": "code",
   "execution_count": 2,
   "metadata": {},
   "outputs": [
    {
     "name": "stdout",
     "output_type": "stream",
     "text": [
      "[WinError 123] The filename, directory name, or volume label syntax is incorrect: 'r\"C:\\\\Users\\\\me20332\\\\OneDrive - University of Bristol\\\\MscR\\\\GitHub\\\\Python-practice\\\\a-PyTorch-Tutorial-to-Object-Detection.code-workspace'\n",
      "C:\\Users\\me20332\\AppData\\Local\\Programs\\Microsoft VS Code\n"
     ]
    }
   ],
   "source": [
    "%cd r\"C:\\Users\\me20332\\OneDrive - University of Bristol\\MscR\\GitHub\\Python-practice\\a-PyTorch-Tutorial-to-Object-Detection.code-workspace\""
   ]
  },
  {
   "cell_type": "code",
   "execution_count": 6,
   "metadata": {},
   "outputs": [],
   "source": [
    "import zipfile"
   ]
  },
  {
   "cell_type": "markdown",
   "metadata": {},
   "source": [
    "# Working directory and Data"
   ]
  },
  {
   "cell_type": "code",
   "execution_count": 7,
   "metadata": {},
   "outputs": [
    {
     "name": "stdout",
     "output_type": "stream",
     "text": [
      "\u001b[1;31mType:\u001b[0m        module\n",
      "\u001b[1;31mString form:\u001b[0m <module 'zipfile' from 'c:\\\\Users\\\\me20332\\\\AppData\\\\Local\\\\anaconda3\\\\Lib\\\\zipfile\\\\__init__.py'>\n",
      "\u001b[1;31mFile:\u001b[0m        c:\\users\\me20332\\appdata\\local\\anaconda3\\lib\\zipfile\\__init__.py\n",
      "\u001b[1;31mDocstring:\u001b[0m  \n",
      "Read and write ZIP files.\n",
      "\n",
      "XXX references to utf-8 need further investigation."
     ]
    }
   ],
   "source": [
    "?zipfile"
   ]
  },
  {
   "cell_type": "code",
   "execution_count": 11,
   "metadata": {},
   "outputs": [
    {
     "name": "stderr",
     "output_type": "stream",
     "text": [
      "C:\\Users\\me20332\\AppData\\Local\\Temp\\ipykernel_19472\\1067662541.py:9: DeprecationWarning: Python 3.14 will, by default, filter extracted tar archives and reject files or modify their metadata. Use the filter argument to control this behavior.\n",
      "  tar.extractall()\n"
     ]
    },
    {
     "name": "stdout",
     "output_type": "stream",
     "text": [
      "Done\n"
     ]
    },
    {
     "name": "stderr",
     "output_type": "stream",
     "text": [
      "C:\\Users\\me20332\\AppData\\Local\\Temp\\ipykernel_19472\\1067662541.py:17: DeprecationWarning: Python 3.14 will, by default, filter extracted tar archives and reject files or modify their metadata. Use the filter argument to control this behavior.\n",
      "  tar.extractall()\n"
     ]
    },
    {
     "name": "stdout",
     "output_type": "stream",
     "text": [
      "Done\n"
     ]
    },
    {
     "name": "stderr",
     "output_type": "stream",
     "text": [
      "C:\\Users\\me20332\\AppData\\Local\\Temp\\ipykernel_19472\\1067662541.py:24: DeprecationWarning: Python 3.14 will, by default, filter extracted tar archives and reject files or modify their metadata. Use the filter argument to control this behavior.\n",
      "  tar.extractall()\n"
     ]
    },
    {
     "name": "stdout",
     "output_type": "stream",
     "text": [
      "Done\n"
     ]
    }
   ],
   "source": [
    "import tarfile\n",
    "\n",
    "file_path = r\"C:\\Users\\me20332\\OneDrive - University of Bristol\\MscR\\VOCtrainval_06-Nov-2007.tar\"  \n",
    "# Replace with the correct path\n",
    "\n",
    "# Open the tar file in read mode ('r')\n",
    "with tarfile.open(file_path, 'r') as tar:\n",
    "    # Extract all members of the archive to the current working directory\n",
    "    tar.extractall()\n",
    "    print('Done')\n",
    "\n",
    "\n",
    "file_path = r\"C:\\Users\\me20332\\OneDrive - University of Bristol\\MscR\\VOCtrainval_11-May-2012.tar\"\n",
    "# Replace with the correct path\n",
    "\n",
    "with tarfile.open(file_path, 'r') as tar:\n",
    "    tar.extractall()\n",
    "    print('Done')\n",
    "\n",
    "file_path = r\"C:\\Users\\me20332\\OneDrive - University of Bristol\\MscR\\VOCtest_06-Nov-2007.tar\"\n",
    "# Replace with the correct path\n",
    "\n",
    "with tarfile.open(file_path, 'r') as tar:\n",
    "    tar.extractall()\n",
    "    print('Done')"
   ]
  },
  {
   "cell_type": "code",
   "execution_count": 14,
   "metadata": {},
   "outputs": [
    {
     "ename": "ModuleNotFoundError",
     "evalue": "No module named 'utils'",
     "output_type": "error",
     "traceback": [
      "\u001b[1;31m---------------------------------------------------------------------------\u001b[0m",
      "\u001b[1;31mModuleNotFoundError\u001b[0m                       Traceback (most recent call last)",
      "Cell \u001b[1;32mIn[14], line 1\u001b[0m\n\u001b[1;32m----> 1\u001b[0m \u001b[38;5;28;01mfrom\u001b[39;00m \u001b[38;5;21;01mutils\u001b[39;00m \u001b[38;5;28;01mimport\u001b[39;00m \u001b[38;5;241m*\u001b[39m\n\u001b[0;32m      2\u001b[0m \u001b[38;5;28;01mfrom\u001b[39;00m \u001b[38;5;21;01mdatasets\u001b[39;00m \u001b[38;5;28;01mimport\u001b[39;00m \u001b[38;5;241m*\u001b[39m\n\u001b[0;32m      3\u001b[0m \u001b[38;5;28;01mfrom\u001b[39;00m \u001b[38;5;21;01mmodel\u001b[39;00m \u001b[38;5;28;01mimport\u001b[39;00m \u001b[38;5;241m*\u001b[39m\n",
      "\u001b[1;31mModuleNotFoundError\u001b[0m: No module named 'utils'"
     ]
    }
   ],
   "source": [
    "from utils import *\n",
    "from datasets import *\n",
    "from model import *\n",
    "from train import *\n",
    "from eval import *"
   ]
  },
  {
   "cell_type": "markdown",
   "metadata": {},
   "source": [
    "#"
   ]
  }
 ],
 "metadata": {
  "kernelspec": {
   "display_name": "base",
   "language": "python",
   "name": "python3"
  },
  "language_info": {
   "codemirror_mode": {
    "name": "ipython",
    "version": 3
   },
   "file_extension": ".py",
   "mimetype": "text/x-python",
   "name": "python",
   "nbconvert_exporter": "python",
   "pygments_lexer": "ipython3",
   "version": "3.12.4"
  }
 },
 "nbformat": 4,
 "nbformat_minor": 2
}
